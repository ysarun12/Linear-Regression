{
 "cells": [
  {
   "cell_type": "markdown",
   "id": "84013c24",
   "metadata": {},
   "source": [
    "## Gradient Descent - one x variable (Lin. Reg.)"
   ]
  },
  {
   "cell_type": "code",
   "execution_count": 1,
   "id": "4c35715a",
   "metadata": {},
   "outputs": [],
   "source": [
    "import numpy as np"
   ]
  },
  {
   "cell_type": "code",
   "execution_count": 2,
   "id": "9c153387",
   "metadata": {},
   "outputs": [],
   "source": [
    "w = 0.0\n",
    "b = 0.0"
   ]
  },
  {
   "cell_type": "code",
   "execution_count": 3,
   "id": "7cd3f853",
   "metadata": {},
   "outputs": [],
   "source": [
    "x = np.random.randn(10,1)\n",
    "y = 5*x + np.random.rand()"
   ]
  },
  {
   "cell_type": "code",
   "execution_count": 4,
   "id": "6ce772b7",
   "metadata": {},
   "outputs": [
    {
     "data": {
      "text/plain": [
       "array([[ 1.74545831],\n",
       "       [-0.63855162],\n",
       "       [-0.64194935],\n",
       "       [-0.36807033],\n",
       "       [-0.8217245 ],\n",
       "       [-0.78242901],\n",
       "       [ 0.87152415],\n",
       "       [-0.24855614],\n",
       "       [ 0.06102228],\n",
       "       [-0.41347562]])"
      ]
     },
     "execution_count": 4,
     "metadata": {},
     "output_type": "execute_result"
    }
   ],
   "source": [
    "x"
   ]
  },
  {
   "cell_type": "code",
   "execution_count": 5,
   "id": "ff1f6c1c",
   "metadata": {},
   "outputs": [
    {
     "data": {
      "text/plain": [
       "array([[ 9.21389879],\n",
       "       [-2.70615086],\n",
       "       [-2.72313952],\n",
       "       [-1.35374441],\n",
       "       [-3.62201529],\n",
       "       [-3.42553785],\n",
       "       [ 4.844228  ],\n",
       "       [-0.7561735 ],\n",
       "       [ 0.79171863],\n",
       "       [-1.58077085]])"
      ]
     },
     "execution_count": 5,
     "metadata": {},
     "output_type": "execute_result"
    }
   ],
   "source": [
    "y"
   ]
  },
  {
   "cell_type": "code",
   "execution_count": 8,
   "id": "4215d386",
   "metadata": {},
   "outputs": [
    {
     "data": {
      "text/plain": [
       "10"
      ]
     },
     "execution_count": 8,
     "metadata": {},
     "output_type": "execute_result"
    }
   ],
   "source": [
    "x.shape[0]"
   ]
  },
  {
   "cell_type": "code",
   "execution_count": 9,
   "id": "44daa85f",
   "metadata": {},
   "outputs": [],
   "source": [
    "learning_rate = 0.01"
   ]
  },
  {
   "cell_type": "code",
   "execution_count": 10,
   "id": "f85c7e9d",
   "metadata": {},
   "outputs": [],
   "source": [
    "N = x.shape[0]"
   ]
  },
  {
   "cell_type": "code",
   "execution_count": 11,
   "id": "99a4b029",
   "metadata": {},
   "outputs": [],
   "source": [
    "def descend(x, y, w, b, learning_rate):\n",
    "    dldw = 0.0\n",
    "    dldb = 0.0\n",
    "    \n",
    "    for xi, yi in zip(x,y):\n",
    "        dldw = dldw + 2*-xi*(yi-(w*xi+b))/N\n",
    "        dldb = dldb + 2*-1*(yi-(w*xi+b))/N\n",
    "        \n",
    "        w = w - (learning_rate*dldw)\n",
    "        b = b - (learning_rate*dldb)\n",
    "        \n",
    "    return w, b"
   ]
  },
  {
   "cell_type": "code",
   "execution_count": 12,
   "id": "0d2922bb",
   "metadata": {},
   "outputs": [
    {
     "name": "stdout",
     "output_type": "stream",
     "text": [
      "0 loss is [12.52289357], parameters w:[0.4829533], b:[0.03015087]\n",
      "1 loss is [10.21837651], parameters w:[0.91918115], b:[0.05921365]\n",
      "2 loss is [8.33864409], parameters w:[1.31321252], b:[0.0870956]\n",
      "3 loss is [6.8052537], parameters w:[1.66913653], b:[0.11373445]\n",
      "4 loss is [5.55427772], parameters w:[1.9906452], b:[0.13909308]\n",
      "5 loss is [4.5336116], parameters w:[2.28107215], b:[0.16315503]\n",
      "6 loss is [3.70078251], parameters w:[2.54342744], b:[0.18592063]\n",
      "7 loss is [3.02116503], parameters w:[2.78042907], b:[0.20740374]\n",
      "8 loss is [2.46652823], parameters w:[2.99453135], b:[0.22762898]\n",
      "9 loss is [2.01385236], parameters w:[3.18795058], b:[0.24662934]\n",
      "10 loss is [1.64436501], parameters w:[3.36268811], b:[0.26444425]\n",
      "11 loss is [1.34275589], parameters w:[3.52055132], b:[0.28111785]\n",
      "12 loss is [1.09653713], parameters w:[3.66317237], b:[0.29669768]\n",
      "13 loss is [0.89552204], parameters w:[3.7920253], b:[0.31123348]\n",
      "14 loss is [0.73140027], parameters w:[3.90844132], b:[0.32477623]\n",
      "15 loss is [0.59739158], parameters w:[4.01362271], b:[0.33737741]\n",
      "16 loss is [0.4879637], parameters w:[4.10865531], b:[0.34908832]\n",
      "17 loss is [0.39860216], parameters w:[4.19451986], b:[0.35995963]\n",
      "18 loss is [0.3256228], parameters w:[4.27210214], b:[0.37004091]\n",
      "19 loss is [0.2660188], parameters w:[4.34220221], b:[0.37938037]\n",
      "20 loss is [0.21733594], parameters w:[4.40554273], b:[0.38802462]\n",
      "21 loss is [0.17757091], parameters w:[4.46277642], b:[0.39601846]\n",
      "22 loss is [0.14508835], parameters w:[4.5144929], b:[0.40340477]\n",
      "23 loss is [0.11855315], parameters w:[4.56122477], b:[0.41022449]\n",
      "24 loss is [0.09687526], parameters w:[4.6034531], b:[0.41651648]\n",
      "25 loss is [0.07916466], parameters w:[4.64161251], b:[0.42231758]\n",
      "26 loss is [0.06469459], parameters w:[4.67609557], b:[0.4276626]\n",
      "27 loss is [0.05287156], parameters w:[4.70725693], b:[0.43258436]\n",
      "28 loss is [0.0432109], parameters w:[4.735417], b:[0.4371137]\n",
      "29 loss is [0.03531677], parameters w:[4.76086521], b:[0.44127959]\n",
      "30 loss is [0.02886587], parameters w:[4.78386304], b:[0.44510916]\n",
      "31 loss is [0.02359413], parameters w:[4.80464674], b:[0.44862777]\n",
      "32 loss is [0.01928583], parameters w:[4.82342974], b:[0.45185911]\n",
      "33 loss is [0.01576475], parameters w:[4.84040486], b:[0.45482526]\n",
      "34 loss is [0.01288695], parameters w:[4.85574632], b:[0.45754679]\n",
      "35 loss is [0.01053482], parameters w:[4.86961152], b:[0.46004282]\n",
      "36 loss is [0.00861226], parameters w:[4.8821427], b:[0.46233111]\n",
      "37 loss is [0.00704077], parameters w:[4.89346834], b:[0.46442814]\n",
      "38 loss is [0.0057562], parameters w:[4.90370456], b:[0.46634917]\n",
      "39 loss is [0.00470612], parameters w:[4.91295627], b:[0.46810837]\n",
      "40 loss is [0.00384771], parameters w:[4.92131825], b:[0.4697188]\n",
      "41 loss is [0.00314596], parameters w:[4.92887617], b:[0.47119257]\n",
      "42 loss is [0.00257226], parameters w:[4.93570742], b:[0.47254085]\n",
      "43 loss is [0.00210323], parameters w:[4.94188195], b:[0.47377395]\n",
      "44 loss is [0.00171977], parameters w:[4.94746296], b:[0.47490138]\n",
      "45 loss is [0.00140625], parameters w:[4.95250754], b:[0.4759319]\n",
      "46 loss is [0.00114991], parameters w:[4.95706733], b:[0.47687359]\n",
      "47 loss is [0.00094032], parameters w:[4.96118895], b:[0.47773388]\n",
      "48 loss is [0.00076895], parameters w:[4.96491454], b:[0.47851961]\n",
      "49 loss is [0.00062882], parameters w:[4.96828221], b:[0.47923706]\n",
      "50 loss is [0.00051424], parameters w:[4.97132636], b:[0.47989202]\n",
      "51 loss is [0.00042054], parameters w:[4.97407811], b:[0.48048979]\n",
      "52 loss is [0.00034393], parameters w:[4.97656556], b:[0.48103525]\n",
      "53 loss is [0.00028127], parameters w:[4.97881414], b:[0.48153286]\n",
      "54 loss is [0.00023004], parameters w:[4.98084678], b:[0.48198674]\n",
      "55 loss is [0.00018814], parameters w:[4.98268426], b:[0.48240064]\n",
      "56 loss is [0.00015387], parameters w:[4.98434533], b:[0.48277801]\n",
      "57 loss is [0.00012585], parameters w:[4.98584693], b:[0.48312201]\n",
      "58 loss is [0.00010293], parameters w:[4.9872044], b:[0.48343554]\n",
      "59 loss is [8.4187363e-05], parameters w:[4.98843157], b:[0.48372124]\n",
      "60 loss is [6.88583112e-05], parameters w:[4.98954096], b:[0.48398155]\n",
      "61 loss is [5.63211829e-05], parameters w:[4.99054389], b:[0.48421867]\n",
      "62 loss is [4.60673166e-05], parameters w:[4.99145058], b:[0.48443464]\n",
      "63 loss is [3.76807574e-05], parameters w:[4.99227028], b:[0.48463131]\n",
      "64 loss is [3.08213537e-05], parameters w:[4.99301133], b:[0.48481039]\n",
      "65 loss is [2.52109377e-05], parameters w:[4.99368129], b:[0.48497342]\n",
      "66 loss is [2.06220256e-05], parameters w:[4.99428698], b:[0.48512182]\n",
      "67 loss is [1.68685794e-05], parameters w:[4.99483457], b:[0.48525689]\n",
      "68 loss is [1.37984533e-05], parameters w:[4.99532965], b:[0.48537979]\n",
      "69 loss is [1.12872166e-05], parameters w:[4.99577724], b:[0.48549163]\n",
      "70 loss is [9.23310375e-06], parameters w:[4.99618192], b:[0.48559337]\n",
      "71 loss is [7.55288425e-06], parameters w:[4.99654779], b:[0.48568593]\n",
      "72 loss is [6.1784859e-06], parameters w:[4.99687857], b:[0.48577011]\n",
      "73 loss is [5.05423316e-06], parameters w:[4.99717765], b:[0.48584667]\n",
      "74 loss is [4.1345889e-06], parameters w:[4.99744805], b:[0.48591629]\n",
      "75 loss is [3.38230773e-06], parameters w:[4.99769253], b:[0.48597959]\n",
      "76 loss is [2.76692572e-06], parameters w:[4.99791358], b:[0.48603714]\n",
      "77 loss is [2.26352533e-06], parameters w:[4.99811344], b:[0.48608945]\n",
      "78 loss is [1.85172539e-06], parameters w:[4.99829414], b:[0.486137]\n",
      "79 loss is [1.51485496e-06], parameters w:[4.99845753], b:[0.48618022]\n",
      "80 loss is [1.23927779e-06], parameters w:[4.99860525], b:[0.4862195]\n",
      "81 loss is [1.01383975e-06], parameters w:[4.99873883], b:[0.48625519]\n",
      "82 loss is [8.29416931e-07], parameters w:[4.9988596], b:[0.48628761]\n",
      "83 loss is [6.7854603e-07], parameters w:[4.9989688], b:[0.48631708]\n",
      "84 loss is [5.5512204e-07], parameters w:[4.99906754], b:[0.48634384]\n",
      "85 loss is [4.54151e-07], parameters w:[4.99915683], b:[0.48636815]\n",
      "86 loss is [3.71547751e-07], parameters w:[4.99923755], b:[0.48639023]\n",
      "87 loss is [3.03970522e-07], parameters w:[4.99931055], b:[0.48641029]\n",
      "88 loss is [2.48685629e-07], parameters w:[4.99937655], b:[0.4864285]\n",
      "89 loss is [2.03456803e-07], parameters w:[4.99943623], b:[0.48644504]\n",
      "90 loss is [1.66454664e-07], parameters w:[4.9994902], b:[0.48646006]\n",
      "91 loss is [1.36182679e-07], parameters w:[4.999539], b:[0.48647369]\n",
      "92 loss is [1.11416589e-07], parameters w:[4.99958312], b:[0.48648607]\n",
      "93 loss is [9.11548638e-08], parameters w:[4.99962302], b:[0.48649731]\n",
      "94 loss is [7.4578179e-08], parameters w:[4.9996591], b:[0.48650751]\n",
      "95 loss is [6.10162586e-08], parameters w:[4.99969173], b:[0.48651677]\n",
      "96 loss is [4.99207591e-08], parameters w:[4.99972123], b:[0.48652517]\n",
      "97 loss is [4.08430844e-08], parameters w:[4.99974791], b:[0.4865328]\n",
      "98 loss is [3.3416239e-08], parameters w:[4.99977203], b:[0.48653972]\n",
      "99 loss is [2.73399824e-08], parameters w:[4.99979384], b:[0.486546]\n",
      "100 loss is [2.23686854e-08], parameters w:[4.99981357], b:[0.4865517]\n",
      "101 loss is [1.83013956e-08], parameters w:[4.99983141], b:[0.48655687]\n",
      "102 loss is [1.497371e-08], parameters w:[4.99984754], b:[0.48656156]\n",
      "103 loss is [1.22511269e-08], parameters w:[4.99986212], b:[0.48656582]\n",
      "104 loss is [1.00236067e-08], parameters w:[4.99987531], b:[0.48656968]\n",
      "105 loss is [8.2011228e-09], parameters w:[4.99988724], b:[0.48657318]\n",
      "106 loss is [6.71002099e-09], parameters w:[4.99989803], b:[0.48657636]\n",
      "107 loss is [5.49004199e-09], parameters w:[4.99990778], b:[0.48657924]\n",
      "108 loss is [4.49188504e-09], parameters w:[4.9999166], b:[0.48658186]\n",
      "109 loss is [3.6752149e-09], parameters w:[4.99992458], b:[0.48658423]\n",
      "110 loss is [3.00703125e-09], parameters w:[4.99993179], b:[0.48658638]\n",
      "111 loss is [2.46033477e-09], parameters w:[4.99993832], b:[0.48658833]\n",
      "112 loss is [2.01303575e-09], parameters w:[4.99994422], b:[0.48659009]\n",
      "113 loss is [1.64706127e-09], parameters w:[4.99994955], b:[0.4865917]\n",
      "114 loss is [1.34762473e-09], parameters w:[4.99995438], b:[0.48659315]\n",
      "115 loss is [1.10262823e-09], parameters w:[4.99995874], b:[0.48659447]\n",
      "116 loss is [9.02173613e-10], parameters w:[4.99996268], b:[0.48659566]\n",
      "117 loss is [7.38162512e-10], parameters w:[4.99996625], b:[0.48659675]\n",
      "118 loss is [6.03969031e-10], parameters w:[4.99996948], b:[0.48659773]\n",
      "119 loss is [4.94172012e-10], parameters w:[4.9999724], b:[0.48659862]\n",
      "120 loss is [4.04335973e-10], parameters w:[4.99997504], b:[0.48659943]\n",
      "121 loss is [3.30831878e-10], parameters w:[4.99997742], b:[0.48660016]\n",
      "122 loss is [2.70690507e-10], parameters w:[4.99997958], b:[0.48660082]\n",
      "123 loss is [2.21482482e-10], parameters w:[4.99998153], b:[0.48660142]\n",
      "124 loss is [1.81220111e-10], parameters w:[4.9999833], b:[0.48660197]\n",
      "125 loss is [1.48277083e-10], parameters w:[4.9999849], b:[0.48660246]\n",
      "126 loss is [1.21322761e-10], parameters w:[4.99998634], b:[0.48660291]\n",
      "127 loss is [9.92684224e-11], parameters w:[4.99998765], b:[0.48660331]\n",
      "128 loss is [8.1223279e-11], parameters w:[4.99998883], b:[0.48660368]\n",
      "129 loss is [6.64584883e-11], parameters w:[4.99998989], b:[0.48660402]\n",
      "130 loss is [5.43777108e-11], parameters w:[4.99999086], b:[0.48660432]\n",
      "131 loss is [4.449302e-11], parameters w:[4.99999173], b:[0.48660459]\n",
      "132 loss is [3.64051925e-11], parameters w:[4.99999252], b:[0.48660484]\n",
      "133 loss is [2.97875815e-11], parameters w:[4.99999324], b:[0.48660506]\n"
     ]
    },
    {
     "name": "stdout",
     "output_type": "stream",
     "text": [
      "134 loss is [2.43729221e-11], parameters w:[4.99999389], b:[0.48660527]\n",
      "135 loss is [1.99425362e-11], parameters w:[4.99999447], b:[0.48660545]\n",
      "136 loss is [1.63174988e-11], parameters w:[4.999995], b:[0.48660562]\n",
      "137 loss is [1.33514117e-11], parameters w:[4.99999548], b:[0.48660577]\n",
      "138 loss is [1.09244899e-11], parameters w:[4.99999591], b:[0.48660591]\n",
      "139 loss is [8.93872373e-12], parameters w:[4.9999963], b:[0.48660603]\n",
      "140 loss is [7.31392013e-12], parameters w:[4.99999665], b:[0.48660614]\n",
      "141 loss is [5.98446389e-12], parameters w:[4.99999697], b:[0.48660625]\n",
      "142 loss is [4.89666748e-12], parameters w:[4.99999726], b:[0.48660634]\n",
      "143 loss is [4.00660279e-12], parameters w:[4.99999752], b:[0.48660642]\n",
      "144 loss is [3.27832695e-12], parameters w:[4.99999776], b:[0.4866065]\n",
      "145 loss is [2.68243079e-12], parameters w:[4.99999797], b:[0.48660657]\n",
      "146 loss is [2.1948511e-12], parameters w:[4.99999817], b:[0.48660663]\n",
      "147 loss is [1.79589882e-12], parameters w:[4.99999834], b:[0.48660668]\n",
      "148 loss is [1.4694639e-12], parameters w:[4.9999985], b:[0.48660674]\n",
      "149 loss is [1.20236471e-12], parameters w:[4.99999864], b:[0.48660678]\n",
      "150 loss is [9.83815716e-13], parameters w:[4.99999877], b:[0.48660682]\n",
      "151 loss is [8.04991905e-13], parameters w:[4.99999889], b:[0.48660686]\n",
      "152 loss is [6.58672428e-13], parameters w:[4.999999], b:[0.4866069]\n",
      "153 loss is [5.3894899e-13], parameters w:[4.99999909], b:[0.48660693]\n",
      "154 loss is [4.40987252e-13], parameters w:[4.99999918], b:[0.48660696]\n",
      "155 loss is [3.60831626e-13], parameters w:[4.99999926], b:[0.48660698]\n",
      "156 loss is [2.95245535e-13], parameters w:[4.99999933], b:[0.486607]\n",
      "157 loss is [2.41580709e-13], parameters w:[4.99999939], b:[0.48660702]\n",
      "158 loss is [1.97670258e-13], parameters w:[4.99999945], b:[0.48660704]\n",
      "159 loss is [1.61741164e-13], parameters w:[4.9999995], b:[0.48660706]\n",
      "160 loss is [1.32342688e-13], parameters w:[4.99999955], b:[0.48660708]\n",
      "161 loss is [1.08287788e-13], parameters w:[4.99999959], b:[0.48660709]\n",
      "162 loss is [8.86051878e-14], parameters w:[4.99999963], b:[0.4866071]\n",
      "163 loss is [7.25001567e-14], parameters w:[4.99999967], b:[0.48660711]\n",
      "164 loss is [5.93224204e-14], parameters w:[4.9999997], b:[0.48660712]\n",
      "165 loss is [4.85399032e-14], parameters w:[4.99999973], b:[0.48660713]\n",
      "166 loss is [3.97172402e-14], parameters w:[4.99999975], b:[0.48660714]\n",
      "167 loss is [3.24982013e-14], parameters w:[4.99999978], b:[0.48660715]\n",
      "168 loss is [2.65913076e-14], parameters w:[4.9999998], b:[0.48660716]\n",
      "169 loss is [2.17580591e-14], parameters w:[4.99999982], b:[0.48660716]\n",
      "170 loss is [1.78033082e-14], parameters w:[4.99999984], b:[0.48660717]\n",
      "171 loss is [1.45673769e-14], parameters w:[4.99999985], b:[0.48660717]\n",
      "172 loss is [1.1919611e-14], parameters w:[4.99999987], b:[0.48660718]\n",
      "173 loss is [9.75310498e-15], parameters w:[4.99999988], b:[0.48660718]\n",
      "174 loss is [7.9803838e-15], parameters w:[4.99999989], b:[0.48660719]\n",
      "175 loss is [6.52987302e-15], parameters w:[4.9999999], b:[0.48660719]\n",
      "176 loss is [5.34300722e-15], parameters w:[4.99999991], b:[0.48660719]\n",
      "177 loss is [4.37186628e-15], parameters w:[4.99999992], b:[0.4866072]\n",
      "178 loss is [3.57723943e-15], parameters w:[4.99999993], b:[0.4866072]\n",
      "179 loss is [2.92704369e-15], parameters w:[4.99999993], b:[0.4866072]\n",
      "180 loss is [2.39502732e-15], parameters w:[4.99999994], b:[0.4866072]\n",
      "181 loss is [1.95970986e-15], parameters w:[4.99999995], b:[0.48660721]\n",
      "182 loss is [1.60351539e-15], parameters w:[4.99999995], b:[0.48660721]\n",
      "183 loss is [1.31206252e-15], parameters w:[4.99999996], b:[0.48660721]\n",
      "184 loss is [1.07358383e-15], parameters w:[4.99999996], b:[0.48660721]\n",
      "185 loss is [8.78450788e-16], parameters w:[4.99999996], b:[0.48660721]\n",
      "186 loss is [7.18784944e-16], parameters w:[4.99999997], b:[0.48660721]\n",
      "187 loss is [5.88139738e-16], parameters w:[4.99999997], b:[0.48660721]\n",
      "188 loss is [4.81240389e-16], parameters w:[4.99999997], b:[0.48660722]\n",
      "189 loss is [3.93770954e-16], parameters w:[4.99999998], b:[0.48660722]\n",
      "190 loss is [3.2219983e-16], parameters w:[4.99999998], b:[0.48660722]\n",
      "191 loss is [2.63637365e-16], parameters w:[4.99999998], b:[0.48660722]\n",
      "192 loss is [2.15719165e-16], parameters w:[4.99999998], b:[0.48660722]\n",
      "193 loss is [1.76510427e-16], parameters w:[4.99999998], b:[0.48660722]\n",
      "194 loss is [1.44428227e-16], parameters w:[4.99999999], b:[0.48660722]\n",
      "195 loss is [1.18177226e-16], parameters w:[4.99999999], b:[0.48660722]\n",
      "196 loss is [9.66975914e-17], parameters w:[4.99999999], b:[0.48660722]\n",
      "197 loss is [7.9122027e-17], parameters w:[4.99999999], b:[0.48660722]\n",
      "198 loss is [6.47409717e-17], parameters w:[4.99999999], b:[0.48660722]\n",
      "199 loss is [5.29737939e-17], parameters w:[4.99999999], b:[0.48660722]\n"
     ]
    }
   ],
   "source": [
    "for step in range(200):\n",
    "    w, b = descend(x, y, w, b, learning_rate)\n",
    "    yhat = w*x + b\n",
    "    loss = np.sum((y-yhat)**2, axis=0)/N\n",
    "    print(f'{step} loss is {loss}, parameters w:{w}, b:{b}')"
   ]
  },
  {
   "cell_type": "markdown",
   "id": "77103833",
   "metadata": {},
   "source": [
    "#### Different function definition"
   ]
  },
  {
   "cell_type": "code",
   "execution_count": 13,
   "id": "6bd39132",
   "metadata": {},
   "outputs": [],
   "source": [
    "def gradient_descent(x, y):\n",
    "    m = 0.0\n",
    "    c = 0.0\n",
    "    N = x.shape[0]\n",
    "    iters = 300\n",
    "    learn_rate = 0.1\n",
    "    \n",
    "    for i in range(iters):\n",
    "        yhat = m*x + c\n",
    "        \n",
    "        dm = (-2/N)*sum(x*(y-yhat))\n",
    "        dc = (-2/N)*sum(y-yhat)\n",
    "        \n",
    "        m = m - learn_rate*dm\n",
    "        c = c - learn_rate*dc\n",
    "        \n",
    "        cost = (sum(y-yhat)**2)/N\n",
    "        \n",
    "        print('m: {}, c: {}, cost: {} for iteration: {}'.format(m, c, cost, i))"
   ]
  },
  {
   "cell_type": "code",
   "execution_count": 12,
   "id": "3473635d",
   "metadata": {},
   "outputs": [
    {
     "name": "stdout",
     "output_type": "stream",
     "text": [
      "m: [0.60591144], c: [-0.12777707], cost: [4.0817449] for iteration: 0\n",
      "m: [1.13284118], c: [-0.20860243], cost: [1.63318476] for iteration: 1\n",
      "m: [1.59215444], c: [-0.25465547], cost: [0.53022067] for iteration: 2\n",
      "m: [1.99338954], c: [-0.27527837], cost: [0.10632599] for iteration: 3\n",
      "m: [2.34458257], c: [-0.27760805], cost: [0.00135684] for iteration: 4\n",
      "m: [2.65252994], c: [-0.26707025], cost: [0.02776127] for iteration: 5\n",
      "m: [2.92300114], c: [-0.2477656], cost: [0.09316737] for iteration: 6\n",
      "m: [3.16091177], c: [-0.22277085], cost: [0.15618444] for iteration: 7\n",
      "m: [3.37046461], c: [-0.19437381], cost: [0.20159798] for iteration: 8\n",
      "m: [3.55526512], c: [-0.16425633], cost: [0.2267657] for iteration: 9\n",
      "m: [3.71841624], c: [-0.13363656], cost: [0.23439257] for iteration: 10\n",
      "m: [3.86259653], c: [-0.10337945], cost: [0.22887305] for iteration: 11\n",
      "m: [3.99012479], c: [-0.07408239], cost: [0.21457942] for iteration: 12\n",
      "m: [4.10301374], c: [-0.0461414], cost: [0.19517486] for iteration: 13\n",
      "m: [4.20301474], c: [-0.0198022], cost: [0.17343835] for iteration: 14\n",
      "m: [4.29165522], c: [0.00480045], cost: [0.15132262] for iteration: 15\n",
      "m: [4.37027011], c: [0.0276127], cost: [0.13009963] for iteration: 16\n",
      "m: [4.4400284], c: [0.04863859], cost: [0.11052202] for iteration: 17\n",
      "m: [4.50195552], c: [0.06792265], cost: [0.09296872] for iteration: 18\n",
      "m: [4.55695246], c: [0.0855367], cost: [0.07756371] for iteration: 19\n",
      "m: [4.60581199], c: [0.10157003], cost: [0.06426688] for iteration: 20\n",
      "m: [4.64923262], c: [0.11612204], cost: [0.0529403] for iteration: 21\n",
      "m: [4.68783051], c: [0.12929695], cost: [0.04339455] for iteration: 22\n",
      "m: [4.72214975], c: [0.14119987], cost: [0.03541986] for iteration: 23\n",
      "m: [4.75267132], c: [0.1519341], cost: [0.02880595] for iteration: 24\n",
      "m: [4.77982068], c: [0.16159928], cost: [0.02335394] for iteration: 25\n",
      "m: [4.80397455], c: [0.17029014], cost: [0.01888276] for iteration: 26\n",
      "m: [4.82546669], c: [0.17809577], cost: [0.01523194] for iteration: 27\n",
      "m: [4.84459297], c: [0.18509921], cost: [0.01226205] for iteration: 28\n",
      "m: [4.86161584], c: [0.19137736], cost: [0.0098538] for iteration: 29\n",
      "m: [4.87676821], c: [0.197001], cost: [0.00790634] for iteration: 30\n",
      "m: [4.89025687], c: [0.20203499], cost: [0.00633525] for iteration: 31\n",
      "m: [4.90226547], c: [0.20653849], cost: [0.00507039] for iteration: 32\n",
      "m: [4.91295718], c: [0.21056535], cost: [0.0040539] for iteration: 33\n",
      "m: [4.92247702], c: [0.21416439], cost: [0.00323827] for iteration: 34\n",
      "m: [4.93095392], c: [0.21737979], cost: [0.0025847] for iteration: 35\n",
      "m: [4.9385025], c: [0.22025146], cost: [0.00206161] for iteration: 36\n",
      "m: [4.94522474], c: [0.22281535], cost: [0.00164338] for iteration: 37\n",
      "m: [4.95121131], c: [0.22510384], cost: [0.0013093] for iteration: 38\n",
      "m: [4.95654292], c: [0.22714603], cost: [0.00104264] for iteration: 39\n",
      "m: [4.96129136], c: [0.22896806], cost: [0.00082995] for iteration: 40\n",
      "m: [4.96552054], c: [0.23059336], cost: [0.0006604] for iteration: 41\n",
      "m: [4.96928732], c: [0.23204295], cost: [0.00052532] for iteration: 42\n",
      "m: [4.97264233], c: [0.23333563], cost: [0.00041776] for iteration: 43\n",
      "m: [4.97563065], c: [0.23448825], cost: [0.00033213] for iteration: 44\n",
      "m: [4.97829238], c: [0.23551587], cost: [0.000264] for iteration: 45\n",
      "m: [4.98066327], c: [0.23643196], cost: [0.00020981] for iteration: 46\n",
      "m: [4.9827751], c: [0.23724856], cost: [0.00016671] for iteration: 47\n",
      "m: [4.98465622], c: [0.23797641], cost: [0.00013244] for iteration: 48\n",
      "m: [4.98633185], c: [0.23862511], cost: [0.00010521] for iteration: 49\n",
      "m: [4.98782444], c: [0.23920325], cost: [8.35603307e-05] for iteration: 50\n",
      "m: [4.98915399], c: [0.23971846], cost: [6.63618793e-05] for iteration: 51\n",
      "m: [4.99033833], c: [0.24017759], cost: [5.26984532e-05] for iteration: 52\n",
      "m: [4.99139333], c: [0.24058671], cost: [4.18448838e-05] for iteration: 53\n",
      "m: [4.9923331], c: [0.24095126], cost: [3.32243322e-05] for iteration: 54\n",
      "m: [4.99317025], c: [0.24127609], cost: [2.63780785e-05] for iteration: 55\n",
      "m: [4.99391597], c: [0.24156551], cost: [2.09414253e-05] for iteration: 56\n",
      "m: [4.99458027], c: [0.24182338], cost: [1.66244889e-05] for iteration: 57\n",
      "m: [4.99517202], c: [0.24205314], cost: [1.3196897e-05] for iteration: 58\n",
      "m: [4.99569916], c: [0.24225784], cost: [1.04756021e-05] for iteration: 59\n",
      "m: [4.99616874], c: [0.24244021], cost: [8.31518132e-06] for iteration: 60\n",
      "m: [4.99658705], c: [0.24260269], cost: [6.60011826e-06] for iteration: 61\n",
      "m: [4.99695968], c: [0.24274745], cost: [5.23866311e-06] for iteration: 62\n",
      "m: [4.99729162], c: [0.24287642], cost: [4.1579504e-06] for iteration: 63\n",
      "m: [4.99758732], c: [0.24299131], cost: [3.30011736e-06] for iteration: 64\n",
      "m: [4.99785074], c: [0.24309367], cost: [2.61921857e-06] for iteration: 65\n",
      "m: [4.99808539], c: [0.24318485], cost: [2.07877402e-06] for iteration: 66\n",
      "m: [4.99829443], c: [0.24326609], cost: [1.64982091e-06] for iteration: 67\n",
      "m: [4.99848064], c: [0.24333846], cost: [1.30936587e-06] for iteration: 68\n",
      "m: [4.99864652], c: [0.24340293], cost: [1.0391555e-06] for iteration: 69\n",
      "m: [4.99879429], c: [0.24346037], cost: [8.24699884e-07] for iteration: 70\n",
      "m: [4.99892593], c: [0.24351153], cost: [6.54497021e-07] for iteration: 71\n",
      "m: [4.99904319], c: [0.24355711], cost: [5.19417041e-07] for iteration: 72\n",
      "m: [4.99914765], c: [0.24359772], cost: [4.12213176e-07] for iteration: 73\n",
      "m: [4.99924071], c: [0.24363389], cost: [3.27133512e-07] for iteration: 74\n",
      "m: [4.99932361], c: [0.24366612], cost: [2.59612733e-07] for iteration: 75\n",
      "m: [4.99939745], c: [0.24369483], cost: [2.06027402e-07] for iteration: 76\n",
      "m: [4.99946324], c: [0.2437204], cost: [1.63501694e-07] for iteration: 77\n",
      "m: [4.99952184], c: [0.24374318], cost: [1.29753179e-07] for iteration: 78\n",
      "m: [4.99957404], c: [0.24376348], cost: [1.02970403e-07] for iteration: 79\n",
      "m: [4.99962055], c: [0.24378156], cost: [8.17157237e-08] for iteration: 80\n",
      "m: [4.99966197], c: [0.24379766], cost: [6.48481818e-08] for iteration: 81\n",
      "m: [4.99969888], c: [0.24381201], cost: [5.14622833e-08] for iteration: 82\n",
      "m: [4.99973175], c: [0.24382479], cost: [4.08394123e-08] for iteration: 83\n",
      "m: [4.99976104], c: [0.24383618], cost: [3.24092661e-08] for iteration: 84\n",
      "m: [4.99978713], c: [0.24384632], cost: [2.57192484e-08] for iteration: 85\n",
      "m: [4.99981037], c: [0.24385535], cost: [2.04101779e-08] for iteration: 86\n",
      "m: [4.99983107], c: [0.2438634], cost: [1.61970086e-08] for iteration: 87\n",
      "m: [4.99984951], c: [0.24387057], cost: [1.28535294e-08] for iteration: 88\n",
      "m: [4.99986594], c: [0.24387696], cost: [1.02002213e-08] for iteration: 89\n",
      "m: [4.99988058], c: [0.24388265], cost: [8.09461978e-09] for iteration: 90\n",
      "m: [4.99989362], c: [0.24388772], cost: [6.42366689e-09] for iteration: 91\n",
      "m: [4.99990523], c: [0.24389224], cost: [5.09764168e-09] for iteration: 92\n",
      "m: [4.99991558], c: [0.24389626], cost: [4.04534312e-09] for iteration: 93\n",
      "m: [4.99992479], c: [0.24389984], cost: [3.21026746e-09] for iteration: 94\n",
      "m: [4.99993301], c: [0.24390303], cost: [2.54757446e-09] for iteration: 95\n",
      "m: [4.99994032], c: [0.24390588], cost: [2.02167991e-09] for iteration: 96\n",
      "m: [4.99994684], c: [0.24390841], cost: [1.60434499e-09] for iteration: 97\n",
      "m: [4.99995264], c: [0.24391067], cost: [1.27316006e-09] for iteration: 98\n",
      "m: [4.99995781], c: [0.24391268], cost: [1.01034137e-09] for iteration: 99\n",
      "m: [4.99996242], c: [0.24391447], cost: [8.01776219e-10] for iteration: 100\n",
      "m: [4.99996652], c: [0.24391606], cost: [6.36265123e-10] for iteration: 101\n",
      "m: [4.99997017], c: [0.24391748], cost: [5.04920483e-10] for iteration: 102\n",
      "m: [4.99997343], c: [0.24391875], cost: [4.00689345e-10] for iteration: 103\n",
      "m: [4.99997633], c: [0.24391988], cost: [3.1797468e-10] for iteration: 104\n",
      "m: [4.99997892], c: [0.24392088], cost: [2.52334848e-10] for iteration: 105\n",
      "m: [4.99998122], c: [0.24392178], cost: [2.00245091e-10] for iteration: 106\n",
      "m: [4.99998327], c: [0.24392258], cost: [1.58908264e-10] for iteration: 107\n",
      "m: [4.99998509], c: [0.24392329], cost: [1.26104636e-10] for iteration: 108\n",
      "m: [4.99998672], c: [0.24392392], cost: [1.00072694e-10] for iteration: 109\n",
      "m: [4.99998817], c: [0.24392448], cost: [7.9414554e-11] for iteration: 110\n",
      "m: [4.99998946], c: [0.24392498], cost: [6.30208979e-11] for iteration: 111\n",
      "m: [4.99999061], c: [0.24392543], cost: [5.00114044e-11] for iteration: 112\n",
      "m: [4.99999164], c: [0.24392583], cost: [3.96874773e-11] for iteration: 113\n",
      "m: [4.99999255], c: [0.24392618], cost: [3.14947323e-11] for iteration: 114\n",
      "m: [4.99999336], c: [0.2439265], cost: [2.4993227e-11] for iteration: 115\n",
      "m: [4.99999409], c: [0.24392678], cost: [1.98338367e-11] for iteration: 116\n",
      "m: [4.99999473], c: [0.24392703], cost: [1.57395068e-11] for iteration: 117\n",
      "m: [4.99999531], c: [0.24392726], cost: [1.24903756e-11] for iteration: 118\n",
      "m: [4.99999582], c: [0.24392746], cost: [9.91196739e-12] for iteration: 119\n",
      "m: [4.99999628], c: [0.24392763], cost: [7.86582399e-12] for iteration: 120\n",
      "m: [4.99999668], c: [0.24392779], cost: [6.24206917e-12] for iteration: 121\n",
      "m: [4.99999705], c: [0.24392793], cost: [4.95350862e-12] for iteration: 122\n",
      "m: [4.99999737], c: [0.24392806], cost: [3.93094769e-12] for iteration: 123\n",
      "m: [4.99999766], c: [0.24392817], cost: [3.11947565e-12] for iteration: 124\n",
      "m: [4.99999791], c: [0.24392827], cost: [2.47551711e-12] for iteration: 125\n",
      "m: [4.99999814], c: [0.24392836], cost: [1.96449198e-12] for iteration: 126\n",
      "m: [4.99999834], c: [0.24392844], cost: [1.55895861e-12] for iteration: 127\n",
      "m: [4.99999852], c: [0.24392851], cost: [1.23714016e-12] for iteration: 128\n",
      "m: [4.99999868], c: [0.24392857], cost: [9.81755234e-13] for iteration: 129\n",
      "m: [4.99999883], c: [0.24392863], cost: [7.79089842e-13] for iteration: 130\n",
      "m: [4.99999896], c: [0.24392868], cost: [6.18261006e-13] for iteration: 131\n",
      "m: [4.99999907], c: [0.24392872], cost: [4.90632338e-13] for iteration: 132\n",
      "m: [4.99999917], c: [0.24392876], cost: [3.8935027e-13] for iteration: 133\n",
      "m: [4.99999926], c: [0.24392879], cost: [3.08976031e-13] for iteration: 134\n",
      "m: [4.99999934], c: [0.24392883], cost: [2.45193582e-13] for iteration: 135\n",
      "m: [4.99999941], c: [0.24392885], cost: [1.94577853e-13] for iteration: 136\n",
      "m: [4.99999948], c: [0.24392888], cost: [1.54410814e-13] for iteration: 137\n",
      "m: [4.99999954], c: [0.2439289], cost: [1.22535526e-13] for iteration: 138\n",
      "m: [4.99999959], c: [0.24392892], cost: [9.72403071e-14] for iteration: 139\n",
      "m: [4.99999963], c: [0.24392894], cost: [7.71668245e-14] for iteration: 140\n",
      "m: [4.99999967], c: [0.24392895], cost: [6.12371445e-14] for iteration: 141\n",
      "m: [4.99999971], c: [0.24392897], cost: [4.85958557e-14] for iteration: 142\n",
      "m: [4.99999974], c: [0.24392898], cost: [3.85641298e-14] for iteration: 143\n",
      "m: [4.99999977], c: [0.24392899], cost: [3.06032702e-14] for iteration: 144\n",
      "m: [4.99999979], c: [0.243929], cost: [2.42857848e-14] for iteration: 145\n",
      "m: [4.99999982], c: [0.24392901], cost: [1.92724285e-14] for iteration: 146\n",
      "m: [4.99999984], c: [0.24392902], cost: [1.52939879e-14] for iteration: 147\n",
      "m: [4.99999985], c: [0.24392902], cost: [1.21368239e-14] for iteration: 148\n",
      "m: [4.99999987], c: [0.24392903], cost: [9.63139842e-15] for iteration: 149\n",
      "m: [4.99999988], c: [0.24392904], cost: [7.64317225e-15] for iteration: 150\n",
      "m: [4.9999999], c: [0.24392904], cost: [6.06537905e-15] for iteration: 151\n",
      "m: [4.99999991], c: [0.24392905], cost: [4.81329243e-15] for iteration: 152\n",
      "m: [4.99999992], c: [0.24392905], cost: [3.81967626e-15] for iteration: 153\n",
      "m: [4.99999993], c: [0.24392905], cost: [3.03117389e-15] for iteration: 154\n",
      "m: [4.99999993], c: [0.24392906], cost: [2.40544341e-15] for iteration: 155\n",
      "m: [4.99999994], c: [0.24392906], cost: [1.90888356e-15] for iteration: 156\n",
      "m: [4.99999995], c: [0.24392906], cost: [1.5148295e-15] for iteration: 157\n",
      "m: [4.99999995], c: [0.24392906], cost: [1.20212059e-15] for iteration: 158\n",
      "m: [4.99999996], c: [0.24392907], cost: [9.53964761e-16] for iteration: 159\n",
      "m: [4.99999996], c: [0.24392907], cost: [7.57036176e-16] for iteration: 160\n",
      "m: [4.99999997], c: [0.24392907], cost: [6.00759908e-16] for iteration: 161\n",
      "m: [4.99999997], c: [0.24392907], cost: [4.76744015e-16] for iteration: 162\n",
      "m: [4.99999997], c: [0.24392907], cost: [3.78328938e-16] for iteration: 163\n",
      "m: [4.99999998], c: [0.24392907], cost: [3.00229849e-16] for iteration: 164\n",
      "m: [4.99999998], c: [0.24392907], cost: [2.38252882e-16] for iteration: 165\n",
      "m: [4.99999998], c: [0.24392907], cost: [1.89069925e-16] for iteration: 166\n",
      "m: [4.99999998], c: [0.24392907], cost: [1.50039893e-16] for iteration: 167\n",
      "m: [4.99999999], c: [0.24392908], cost: [1.1906691e-16] for iteration: 168\n",
      "m: [4.99999999], c: [0.24392908], cost: [9.4487718e-17] for iteration: 169\n",
      "m: [4.99999999], c: [0.24392908], cost: [7.49824584e-17] for iteration: 170\n",
      "m: [4.99999999], c: [0.24392908], cost: [5.95036954e-17] for iteration: 171\n",
      "m: [4.99999999], c: [0.24392908], cost: [4.72202551e-17] for iteration: 172\n",
      "m: [4.99999999], c: [0.24392908], cost: [3.74724989e-17] for iteration: 173\n",
      "m: [4.99999999], c: [0.24392908], cost: [2.97369788e-17] for iteration: 174\n",
      "m: [4.99999999], c: [0.24392908], cost: [2.35983216e-17] for iteration: 175\n",
      "m: [4.99999999], c: [0.24392908], cost: [1.87268767e-17] for iteration: 176\n",
      "m: [4.99999999], c: [0.24392908], cost: [1.48610568e-17] for iteration: 177\n",
      "m: [5.], c: [0.24392908], cost: [1.17932578e-17] for iteration: 178\n",
      "m: [5.], c: [0.24392908], cost: [9.35875915e-18] for iteration: 179\n",
      "m: [5.], c: [0.24392908], cost: [7.42681306e-18] for iteration: 180\n",
      "m: [5.], c: [0.24392908], cost: [5.89368631e-18] for iteration: 181\n",
      "m: [5.], c: [0.24392908], cost: [4.67704029e-18] for iteration: 182\n",
      "m: [5.], c: [0.24392908], cost: [3.71155186e-18] for iteration: 183\n",
      "m: [5.], c: [0.24392908], cost: [2.94537192e-18] for iteration: 184\n",
      "m: [5.], c: [0.24392908], cost: [2.33735294e-18] for iteration: 185\n",
      "m: [5.], c: [0.24392908], cost: [1.85485035e-18] for iteration: 186\n",
      "m: [5.], c: [0.24392908], cost: [1.4719482e-18] for iteration: 187\n",
      "m: [5.], c: [0.24392908], cost: [1.16809352e-18] for iteration: 188\n",
      "m: [5.], c: [0.24392908], cost: [9.26959535e-19] for iteration: 189\n",
      "m: [5.], c: [0.24392908], cost: [7.35606629e-19] for iteration: 190\n",
      "m: [5.], c: [0.24392908], cost: [5.83754344e-19] for iteration: 191\n",
      "m: [5.], c: [0.24392908], cost: [4.63248277e-19] for iteration: 192\n",
      "m: [5.], c: [0.24392908], cost: [3.67618952e-19] for iteration: 193\n",
      "m: [5.], c: [0.24392908], cost: [2.91730635e-19] for iteration: 194\n",
      "m: [5.], c: [0.24392908], cost: [2.31508264e-19] for iteration: 195\n",
      "m: [5.], c: [0.24392908], cost: [1.83717902e-19] for iteration: 196\n",
      "m: [5.], c: [0.24392908], cost: [1.45793048e-19] for iteration: 197\n",
      "m: [5.], c: [0.24392908], cost: [1.15696276e-19] for iteration: 198\n",
      "m: [5.], c: [0.24392908], cost: [9.18127597e-20] for iteration: 199\n",
      "m: [5.], c: [0.24392908], cost: [7.28600117e-20] for iteration: 200\n",
      "m: [5.], c: [0.24392908], cost: [5.78194262e-20] for iteration: 201\n",
      "m: [5.], c: [0.24392908], cost: [4.58832439e-20] for iteration: 202\n",
      "m: [5.], c: [0.24392908], cost: [3.64116745e-20] for iteration: 203\n",
      "m: [5.], c: [0.24392908], cost: [2.8895213e-20] for iteration: 204\n",
      "m: [5.], c: [0.24392908], cost: [2.29302281e-20] for iteration: 205\n",
      "m: [5.], c: [0.24392908], cost: [1.81967933e-20] for iteration: 206\n",
      "m: [5.], c: [0.24392908], cost: [1.44404918e-20] for iteration: 207\n",
      "m: [5.], c: [0.24392908], cost: [1.14594957e-20] for iteration: 208\n",
      "m: [5.], c: [0.24392908], cost: [9.09398393e-21] for iteration: 209\n",
      "m: [5.], c: [0.24392908], cost: [7.21655403e-21] for iteration: 210\n",
      "m: [5.], c: [0.24392908], cost: [5.72688056e-21] for iteration: 211\n",
      "m: [5.], c: [0.24392908], cost: [4.54466242e-21] for iteration: 212\n",
      "m: [5.], c: [0.24392908], cost: [3.60655884e-21] for iteration: 213\n",
      "m: [5.], c: [0.24392908], cost: [2.86202958e-21] for iteration: 214\n",
      "m: [5.], c: [0.24392908], cost: [2.27116636e-21] for iteration: 215\n",
      "m: [5.], c: [0.24392908], cost: [1.80238823e-21] for iteration: 216\n",
      "m: [5.], c: [0.24392908], cost: [1.43024862e-21] for iteration: 217\n",
      "m: [5.], c: [0.24392908], cost: [1.13500381e-21] for iteration: 218\n",
      "m: [5.], c: [0.24392908], cost: [9.00712244e-22] for iteration: 219\n",
      "m: [5.], c: [0.24392908], cost: [7.14790093e-22] for iteration: 220\n",
      "m: [5.], c: [0.24392908], cost: [5.6724293e-22] for iteration: 221\n",
      "m: [5.], c: [0.24392908], cost: [4.50135118e-22] for iteration: 222\n",
      "m: [5.], c: [0.24392908], cost: [3.57234275e-22] for iteration: 223\n",
      "m: [5.], c: [0.24392908], cost: [2.83462423e-22] for iteration: 224\n",
      "m: [5.], c: [0.24392908], cost: [2.24946314e-22] for iteration: 225\n",
      "m: [5.], c: [0.24392908], cost: [1.78511721e-22] for iteration: 226\n",
      "m: [5.], c: [0.24392908], cost: [1.41669455e-22] for iteration: 227\n",
      "m: [5.], c: [0.24392908], cost: [1.12417609e-22] for iteration: 228\n",
      "m: [5.], c: [0.24392908], cost: [8.92130403e-23] for iteration: 229\n",
      "m: [5.], c: [0.24392908], cost: [7.07988277e-23] for iteration: 230\n",
      "m: [5.], c: [0.24392908], cost: [5.61855136e-23] for iteration: 231\n",
      "m: [5.], c: [0.24392908], cost: [4.45913497e-23] for iteration: 232\n",
      "m: [5.], c: [0.24392908], cost: [3.53793471e-23] for iteration: 233\n",
      "m: [5.], c: [0.24392908], cost: [2.80783513e-23] for iteration: 234\n",
      "m: [5.], c: [0.24392908], cost: [2.22754137e-23] for iteration: 235\n",
      "m: [5.], c: [0.24392908], cost: [1.76784439e-23] for iteration: 236\n",
      "m: [5.], c: [0.24392908], cost: [1.40303301e-23] for iteration: 237\n",
      "m: [5.], c: [0.24392908], cost: [1.11335411e-23] for iteration: 238\n",
      "m: [5.], c: [0.24392908], cost: [8.83732063e-24] for iteration: 239\n",
      "m: [5.], c: [0.24392908], cost: [7.01084688e-24] for iteration: 240\n",
      "m: [5.], c: [0.24392908], cost: [5.56322105e-24] for iteration: 241\n",
      "m: [5.], c: [0.24392908], cost: [4.41400336e-24] for iteration: 242\n",
      "m: [5.], c: [0.24392908], cost: [3.50587317e-24] for iteration: 243\n",
      "m: [5.], c: [0.24392908], cost: [2.78080865e-24] for iteration: 244\n",
      "m: [5.], c: [0.24392908], cost: [2.20797357e-24] for iteration: 245\n",
      "m: [5.], c: [0.24392908], cost: [1.75038849e-24] for iteration: 246\n",
      "m: [5.], c: [0.24392908], cost: [1.38774305e-24] for iteration: 247\n",
      "m: [5.], c: [0.24392908], cost: [1.10254216e-24] for iteration: 248\n",
      "m: [5.], c: [0.24392908], cost: [8.74891319e-25] for iteration: 249\n",
      "m: [5.], c: [0.24392908], cost: [6.93505371e-25] for iteration: 250\n",
      "m: [5.], c: [0.24392908], cost: [5.51054762e-25] for iteration: 251\n",
      "m: [5.], c: [0.24392908], cost: [4.37039912e-25] for iteration: 252\n",
      "m: [5.], c: [0.24392908], cost: [3.46977121e-25] for iteration: 253\n",
      "m: [5.], c: [0.24392908], cost: [2.74972378e-25] for iteration: 254\n",
      "m: [5.], c: [0.24392908], cost: [2.18493019e-25] for iteration: 255\n",
      "m: [5.], c: [0.24392908], cost: [1.73493311e-25] for iteration: 256\n",
      "m: [5.], c: [0.24392908], cost: [1.38024434e-25] for iteration: 257\n",
      "m: [5.], c: [0.24392908], cost: [1.0914396e-25] for iteration: 258\n",
      "m: [5.], c: [0.24392908], cost: [8.72205835e-26] for iteration: 259\n",
      "m: [5.], c: [0.24392908], cost: [6.89641925e-26] for iteration: 260\n",
      "m: [5.], c: [0.24392908], cost: [5.46396667e-26] for iteration: 261\n",
      "m: [5.], c: [0.24392908], cost: [4.32564186e-26] for iteration: 262\n",
      "m: [5.], c: [0.24392908], cost: [3.4362781e-26] for iteration: 263\n",
      "m: [5.], c: [0.24392908], cost: [2.72280272e-26] for iteration: 264\n",
      "m: [5.], c: [0.24392908], cost: [2.16189106e-26] for iteration: 265\n",
      "m: [5.], c: [0.24392908], cost: [1.70571449e-26] for iteration: 266\n",
      "m: [5.], c: [0.24392908], cost: [1.37174234e-26] for iteration: 267\n",
      "m: [5.], c: [0.24392908], cost: [1.08287134e-26] for iteration: 268\n",
      "m: [5.], c: [0.24392908], cost: [8.51277552e-27] for iteration: 269\n",
      "m: [5.], c: [0.24392908], cost: [6.84181035e-27] for iteration: 270\n",
      "m: [5.], c: [0.24392908], cost: [5.39440836e-27] for iteration: 271\n",
      "m: [5.], c: [0.24392908], cost: [4.28264697e-27] for iteration: 272\n",
      "m: [5.], c: [0.24392908], cost: [3.47887659e-27] for iteration: 273\n",
      "m: [5.], c: [0.24392908], cost: [2.7144901e-27] for iteration: 274\n",
      "m: [5.], c: [0.24392908], cost: [2.19347212e-27] for iteration: 275\n",
      "m: [5.], c: [0.24392908], cost: [1.73376343e-27] for iteration: 276\n",
      "m: [5.], c: [0.24392908], cost: [1.37972265e-27] for iteration: 277\n",
      "m: [5.], c: [0.24392908], cost: [1.11241714e-27] for iteration: 278\n",
      "m: [5.], c: [0.24392908], cost: [8.82188081e-28] for iteration: 279\n",
      "m: [5.], c: [0.24392908], cost: [6.42532138e-28] for iteration: 280\n",
      "m: [5.], c: [0.24392908], cost: [5.50013545e-28] for iteration: 281\n",
      "m: [5.], c: [0.24392908], cost: [4.20383976e-28] for iteration: 282\n",
      "m: [5.], c: [0.24392908], cost: [3.51481907e-28] for iteration: 283\n",
      "m: [5.], c: [0.24392908], cost: [2.451829e-28] for iteration: 284\n",
      "m: [5.], c: [0.24392908], cost: [2.09225634e-28] for iteration: 285\n",
      "m: [5.], c: [0.24392908], cost: [1.66922968e-28] for iteration: 286\n",
      "m: [5.], c: [0.24392908], cost: [1.26217745e-28] for iteration: 287\n",
      "m: [5.], c: [0.24392908], cost: [9.94161956e-29] for iteration: 288\n",
      "m: [5.], c: [0.24392908], cost: [8.72135035e-29] for iteration: 289\n",
      "m: [5.], c: [0.24392908], cost: [7.09974815e-29] for iteration: 290\n",
      "m: [5.], c: [0.24392908], cost: [4.93038066e-29] for iteration: 291\n",
      "m: [5.], c: [0.24392908], cost: [4.44966854e-29] for iteration: 292\n",
      "m: [5.], c: [0.24392908], cost: [2.69987645e-29] for iteration: 293\n",
      "m: [5.], c: [0.24392908], cost: [2.34735423e-29] for iteration: 294\n",
      "m: [5.], c: [0.24392908], cost: [2.27980802e-29] for iteration: 295\n",
      "m: [5.], c: [0.24392908], cost: [1.437699e-29] for iteration: 296\n",
      "m: [5.], c: [0.24392908], cost: [1.437699e-29] for iteration: 297\n",
      "m: [5.], c: [0.24392908], cost: [9.98402083e-30] for iteration: 298\n",
      "m: [5.], c: [0.24392908], cost: [8.28796989e-30] for iteration: 299\n"
     ]
    }
   ],
   "source": [
    "gradient_descent(x,y)"
   ]
  },
  {
   "cell_type": "markdown",
   "id": "caf02f9b",
   "metadata": {},
   "source": [
    "## Gradient Descent - 2 or more x variables (Lin. Reg.)"
   ]
  },
  {
   "cell_type": "code",
   "execution_count": 21,
   "id": "150df05e",
   "metadata": {},
   "outputs": [
    {
     "data": {
      "text/plain": [
       "array([ 0.19625675,  3.24654697, -0.46393581, -1.52434695, -0.8441358 ,\n",
       "        0.23617853, -0.66804186, -0.6699076 ,  0.67015461,  1.04645154,\n",
       "        0.49505263,  1.29294661, -1.40454681,  1.37885511, -0.19954611,\n",
       "       -1.81742742,  0.70869871,  0.62481849,  0.13088443,  2.30693851])"
      ]
     },
     "execution_count": 21,
     "metadata": {},
     "output_type": "execute_result"
    }
   ],
   "source": [
    "X = np.random.randn(20,2)\n",
    "Y = np.random.randn(20)\n",
    "Y"
   ]
  },
  {
   "cell_type": "code",
   "execution_count": 22,
   "id": "10dfbbcd",
   "metadata": {},
   "outputs": [
    {
     "data": {
      "text/plain": [
       "(20, 2)"
      ]
     },
     "execution_count": 22,
     "metadata": {},
     "output_type": "execute_result"
    }
   ],
   "source": [
    "X.shape"
   ]
  },
  {
   "cell_type": "code",
   "execution_count": 23,
   "id": "4082205b",
   "metadata": {},
   "outputs": [
    {
     "data": {
      "text/plain": [
       "2"
      ]
     },
     "execution_count": 23,
     "metadata": {},
     "output_type": "execute_result"
    }
   ],
   "source": [
    "n = X.shape[1]\n",
    "n"
   ]
  },
  {
   "cell_type": "code",
   "execution_count": 24,
   "id": "92432255",
   "metadata": {},
   "outputs": [
    {
     "data": {
      "text/plain": [
       "array([1., 1.])"
      ]
     },
     "execution_count": 24,
     "metadata": {},
     "output_type": "execute_result"
    }
   ],
   "source": [
    "a = np.ones(shape=(2))\n",
    "a"
   ]
  },
  {
   "cell_type": "code",
   "execution_count": 25,
   "id": "b21f1ffe",
   "metadata": {},
   "outputs": [
    {
     "data": {
      "text/plain": [
       "(2,)"
      ]
     },
     "execution_count": 25,
     "metadata": {},
     "output_type": "execute_result"
    }
   ],
   "source": [
    "a.shape"
   ]
  },
  {
   "cell_type": "code",
   "execution_count": 26,
   "id": "31f58b96",
   "metadata": {},
   "outputs": [
    {
     "data": {
      "text/plain": [
       "(2, 20)"
      ]
     },
     "execution_count": 26,
     "metadata": {},
     "output_type": "execute_result"
    }
   ],
   "source": [
    "X.T.shape"
   ]
  },
  {
   "cell_type": "code",
   "execution_count": 27,
   "id": "65b320d5",
   "metadata": {},
   "outputs": [
    {
     "data": {
      "text/plain": [
       "(20,)"
      ]
     },
     "execution_count": 27,
     "metadata": {},
     "output_type": "execute_result"
    }
   ],
   "source": [
    "np.dot(a, X.T).shape"
   ]
  },
  {
   "cell_type": "code",
   "execution_count": 28,
   "id": "a1af34f0",
   "metadata": {},
   "outputs": [
    {
     "data": {
      "text/plain": [
       "array([-2.24484315, -2.06514685])"
      ]
     },
     "execution_count": 28,
     "metadata": {},
     "output_type": "execute_result"
    }
   ],
   "source": [
    "b = X.T.dot(Y)\n",
    "b"
   ]
  },
  {
   "cell_type": "code",
   "execution_count": 29,
   "id": "730ba540",
   "metadata": {},
   "outputs": [
    {
     "data": {
      "text/plain": [
       "(2,)"
      ]
     },
     "execution_count": 29,
     "metadata": {},
     "output_type": "execute_result"
    }
   ],
   "source": [
    "X.T.dot(Y).shape"
   ]
  },
  {
   "cell_type": "code",
   "execution_count": 30,
   "id": "3260595e",
   "metadata": {},
   "outputs": [
    {
     "data": {
      "text/plain": [
       "array([3.24484315, 3.06514685])"
      ]
     },
     "execution_count": 30,
     "metadata": {},
     "output_type": "execute_result"
    }
   ],
   "source": [
    "c = a - b\n",
    "c"
   ]
  },
  {
   "cell_type": "code",
   "execution_count": 31,
   "id": "8f1ea9b6",
   "metadata": {},
   "outputs": [],
   "source": [
    "def batch_gradient_descent(x, y, epoch, learning_rate=0.01):\n",
    "    \n",
    "    num_features = X.shape[1]\n",
    "    w = np.ones(shape=(num_features))\n",
    "    b = 0\n",
    "    total_samples = X.shape[0]\n",
    "    \n",
    "    epoch_list = []\n",
    "    cost_list = []\n",
    "    \n",
    "    for i in range(epoch):\n",
    "        y_pred = np.dot(w, X.T) + b\n",
    "        \n",
    "        dw = (-2/total_samples)*(X.T.dot(y-y_pred))\n",
    "        db = (-2/total_samples)*np.sum(y-y_pred)\n",
    "        \n",
    "        w = w - learning_rate*dw\n",
    "        b = b - learning_rate*db\n",
    "        \n",
    "        cost = np.mean((y-y_pred)**2)\n",
    "        \n",
    "        if i%10 == 0:\n",
    "            epoch_list.append(i)\n",
    "            cost_list.append(cost)\n",
    "            \n",
    "    return w, b, cost, epoch_list, cost_list            \n",
    "    "
   ]
  },
  {
   "cell_type": "code",
   "execution_count": 32,
   "id": "7e073901",
   "metadata": {},
   "outputs": [
    {
     "data": {
      "text/plain": [
       "(array([-0.09539837, -0.05677335]), 0.2156885488405077, 1.5168242473374647)"
      ]
     },
     "execution_count": 32,
     "metadata": {},
     "output_type": "execute_result"
    }
   ],
   "source": [
    "w, b, cost, epoch_list, cost_list = batch_gradient_descent(X, Y, 500)\n",
    "w, b, cost"
   ]
  },
  {
   "cell_type": "code",
   "execution_count": 33,
   "id": "fadd5dee",
   "metadata": {},
   "outputs": [
    {
     "data": {
      "text/plain": [
       "Text(0, 0.5, 'cost')"
      ]
     },
     "execution_count": 33,
     "metadata": {},
     "output_type": "execute_result"
    },
    {
     "data": {
      "image/png": "[encoded data removed]",
      "text/plain": [
       "<Figure size 640x480 with 1 Axes>"
      ]
     },
     "metadata": {},
     "output_type": "display_data"
    }
   ],
   "source": [
    "import matplotlib.pyplot as plt\n",
    "\n",
    "plt.plot(epoch_list, cost_list)\n",
    "plt.xlabel('epoch')\n",
    "plt.ylabel('cost')"
   ]
  },
  {
   "cell_type": "markdown",
   "id": "dcbceb2b",
   "metadata": {},
   "source": [
    "## Stochastic Gradient Descent - 2 or more x variables (Lin. Reg.)"
   ]
  },
  {
   "cell_type": "code",
   "execution_count": 145,
   "id": "5e3e3c44",
   "metadata": {},
   "outputs": [
    {
     "data": {
      "text/plain": [
       "array([3, 0, 0, 2, 2, 0, 0, 1, 3, 0])"
      ]
     },
     "execution_count": 145,
     "metadata": {},
     "output_type": "execute_result"
    }
   ],
   "source": [
    "np.random.randint(0,5, 10)"
   ]
  },
  {
   "cell_type": "code",
   "execution_count": 34,
   "id": "8dd9fc4d",
   "metadata": {},
   "outputs": [
    {
     "data": {
      "text/plain": [
       "12"
      ]
     },
     "execution_count": 34,
     "metadata": {},
     "output_type": "execute_result"
    }
   ],
   "source": [
    "np.random.randint(0,20)"
   ]
  },
  {
   "cell_type": "code",
   "execution_count": 35,
   "id": "4b7bfb2c",
   "metadata": {},
   "outputs": [],
   "source": [
    "def stochastic_gradient_descent(x, y, epochs, learning_rate=0.01):\n",
    "    \n",
    "    num_features = X.shape[1]\n",
    "    w = np.ones(shape=(num_features))\n",
    "    b = 0\n",
    "    total_samples = X.shape[0]\n",
    "    \n",
    "    epoch_list = []\n",
    "    cost_list = []\n",
    "    \n",
    "    for i in range(epochs):\n",
    "        sample_index = np.random.randint(0, total_samples)\n",
    "        sample_x = X[sample_index]\n",
    "        sample_y = Y[sample_index]\n",
    "        \n",
    "        y_pred = np.dot(w, sample_x.T) + b\n",
    "        \n",
    "        dw = (-2/total_samples)*(sample_x.T.dot(sample_y-y_pred))\n",
    "        db = (-2/total_samples)*(sample_y-y_pred)\n",
    "        \n",
    "        w = w - learning_rate*dw\n",
    "        b = b - learning_rate*db\n",
    "        \n",
    "        cost = (sample_y-y_pred)**2\n",
    "        \n",
    "        if i%100 == 0:\n",
    "            epoch_list.append(i)\n",
    "            cost_list.append(cost)\n",
    "            \n",
    "    return w, b, cost, epoch_list, cost_list"
   ]
  },
  {
   "cell_type": "code",
   "execution_count": 36,
   "id": "2ae3750c",
   "metadata": {},
   "outputs": [
    {
     "data": {
      "text/plain": [
       "(array([-0.10103027, -0.04909127]), 0.2067058312146162, 0.8721301543460888)"
      ]
     },
     "execution_count": 36,
     "metadata": {},
     "output_type": "execute_result"
    }
   ],
   "source": [
    "w, b, cost, epoch_list, cost_list = stochastic_gradient_descent(X, Y, 10000)\n",
    "w, b, cost"
   ]
  },
  {
   "cell_type": "code",
   "execution_count": 37,
   "id": "bec0d8eb",
   "metadata": {},
   "outputs": [
    {
     "data": {
      "text/plain": [
       "Text(0, 0.5, 'cost')"
      ]
     },
     "execution_count": 37,
     "metadata": {},
     "output_type": "execute_result"
    },
    {
     "data": {
      "image/png": "[encoded data removed]",
      "text/plain": [
       "<Figure size 640x480 with 1 Axes>"
      ]
     },
     "metadata": {},
     "output_type": "display_data"
    }
   ],
   "source": [
    "plt.plot(epoch_list, cost_list)\n",
    "plt.xlabel('epoch')\n",
    "plt.ylabel('cost')"
   ]
  },
  {
   "cell_type": "markdown",
   "id": "7407aa43",
   "metadata": {},
   "source": [
    "## Mini-batch Gradient Descent"
   ]
  },
  {
   "cell_type": "code",
   "execution_count": 38,
   "id": "71bd4a82",
   "metadata": {},
   "outputs": [],
   "source": [
    "x1 = np.random.randn(1000,2)\n",
    "y1 = np.random.rand(1000)"
   ]
  },
  {
   "cell_type": "code",
   "execution_count": 39,
   "id": "c6c05909",
   "metadata": {},
   "outputs": [
    {
     "data": {
      "text/plain": [
       "20"
      ]
     },
     "execution_count": 39,
     "metadata": {},
     "output_type": "execute_result"
    }
   ],
   "source": [
    "X.shape[0]"
   ]
  },
  {
   "cell_type": "code",
   "execution_count": 40,
   "id": "48eb2eff",
   "metadata": {},
   "outputs": [
    {
     "data": {
      "text/plain": [
       "array([134, 427, 174, 294,  96, 209, 163, 192,  39, 137, 744, 577, 653,\n",
       "       982, 130, 884, 558, 942, 194, 328, 262, 589, 564, 945, 305, 870,\n",
       "       760, 904, 518, 570, 329, 411, 606, 764, 718, 284,  11, 436, 352,\n",
       "        75, 948, 419,  63, 551, 405, 485,  30, 574, 679, 553])"
      ]
     },
     "execution_count": 40,
     "metadata": {},
     "output_type": "execute_result"
    }
   ],
   "source": [
    "total_samples = x1.shape[0]\n",
    "sample_index = np.random.randint(0, total_samples, 50)\n",
    "sample_index"
   ]
  },
  {
   "cell_type": "code",
   "execution_count": 41,
   "id": "a139a643",
   "metadata": {},
   "outputs": [
    {
     "data": {
      "text/plain": [
       "array([[-0.82989404,  0.90670681],\n",
       "       [ 1.24578412, -0.53155086],\n",
       "       [-0.38868674, -0.4045836 ],\n",
       "       [ 1.86943217, -1.56971454],\n",
       "       [ 0.22541619, -0.30616821],\n",
       "       [ 0.39051928, -0.0735695 ],\n",
       "       [-1.13683388,  0.597339  ],\n",
       "       [ 0.95518996, -1.55502423],\n",
       "       [ 0.18833712, -0.78194329],\n",
       "       [-0.35413269,  0.32351315],\n",
       "       [ 0.40822452,  1.09395416],\n",
       "       [-1.18319652, -0.38766401],\n",
       "       [ 0.5597341 ,  0.09040446],\n",
       "       [ 1.02469555, -2.01599799],\n",
       "       [ 0.24871615, -1.92667609],\n",
       "       [-0.33590264,  0.83155792],\n",
       "       [-1.15374291, -1.34156047],\n",
       "       [-0.98774759,  1.05806497],\n",
       "       [ 0.40475553, -0.01000958],\n",
       "       [ 0.61474505, -0.45413834],\n",
       "       [ 0.31976508, -0.36355804],\n",
       "       [ 0.28365488,  0.33253186],\n",
       "       [-0.94587253,  0.31323133],\n",
       "       [ 0.00694957,  0.31586278],\n",
       "       [-0.04220014,  0.64898169],\n",
       "       [-1.53516275,  0.35380913],\n",
       "       [ 1.98649285,  2.35156305],\n",
       "       [ 0.6684405 , -0.08916965],\n",
       "       [ 0.29659818, -0.38117663],\n",
       "       [-0.5806285 ,  1.19195964],\n",
       "       [-0.07703394,  1.45393447],\n",
       "       [ 0.01899753, -1.40074669],\n",
       "       [-0.62523922,  0.73335832],\n",
       "       [-0.37506495,  1.40067114],\n",
       "       [-2.34199006, -1.04347144],\n",
       "       [-0.57111741,  1.49061186],\n",
       "       [ 0.22798127,  0.02955582],\n",
       "       [-1.33129563, -0.70307328],\n",
       "       [ 1.87280422, -1.37346244],\n",
       "       [-0.92751301,  0.26834733],\n",
       "       [-1.59004365,  2.14022577],\n",
       "       [-1.66075856,  0.69313202],\n",
       "       [-0.32583876, -0.5453389 ],\n",
       "       [ 0.25045045,  1.26004425],\n",
       "       [-0.39832058,  0.89093104],\n",
       "       [-0.49562003, -1.07613467],\n",
       "       [-1.78027546, -0.48319586],\n",
       "       [-0.91624415,  1.3477699 ],\n",
       "       [ 0.62272776, -0.42784084],\n",
       "       [ 0.15198496,  1.0413781 ]])"
      ]
     },
     "execution_count": 41,
     "metadata": {},
     "output_type": "execute_result"
    }
   ],
   "source": [
    "sample_x = x1[sample_index]\n",
    "sample_x"
   ]
  },
  {
   "cell_type": "code",
   "execution_count": 42,
   "id": "82d8c142",
   "metadata": {},
   "outputs": [],
   "source": [
    "def minibatch_grad_descent(x, y, epoch, learning_rate=0.01):\n",
    "    \n",
    "    num_features = x1.shape[1]\n",
    "    w = np.ones(shape=num_features)\n",
    "    b = 0\n",
    "    total_samples = x1.shape[0]\n",
    "    \n",
    "    epoch_list = []\n",
    "    cost_list = []\n",
    "    \n",
    "    for i in range(epoch):\n",
    "        sample_index = np.random.randint(0, total_samples, 50)\n",
    "        sample_x = x1[sample_index]\n",
    "        sample_y = y1[sample_index]\n",
    "        \n",
    "        y_pred = np.dot(w, sample_x.T) + b\n",
    "        \n",
    "        dw = (-2/total_samples)*(sample_x.T.dot(sample_y - y_pred))\n",
    "        db = (-2/total_samples)*sum(sample_y - y_pred)\n",
    "        \n",
    "        w = w - learning_rate*dw\n",
    "        b = b - learning_rate*db\n",
    "        \n",
    "        cost = np.mean((sample_y - y_pred)**2)\n",
    "        \n",
    "        if i%10 == 0:\n",
    "            epoch_list.append(i)\n",
    "            cost_list.append(cost)\n",
    "            \n",
    "    return w, b, cost, epoch_list, cost_list"
   ]
  },
  {
   "cell_type": "code",
   "execution_count": 43,
   "id": "08500461",
   "metadata": {},
   "outputs": [
    {
     "data": {
      "text/plain": [
       "(array([-0.00807581,  0.01707321]), 0.49376077489649906, 0.08499056353407475)"
      ]
     },
     "execution_count": 43,
     "metadata": {},
     "output_type": "execute_result"
    }
   ],
   "source": [
    "w, b, cost, epoch_list, cost_list = minibatch_grad_descent(x1, y1, 5000)\n",
    "w, b, cost"
   ]
  },
  {
   "cell_type": "code",
   "execution_count": 44,
   "id": "d90fc8df",
   "metadata": {},
   "outputs": [
    {
     "data": {
      "text/plain": [
       "Text(0.5, 1.0, 'Mini-batch Gradient Descent')"
      ]
     },
     "execution_count": 44,
     "metadata": {},
     "output_type": "execute_result"
    },
    {
     "data": {
      "image/png": "[encoded data removed]",
      "text/plain": [
       "<Figure size 640x480 with 1 Axes>"
      ]
     },
     "metadata": {},
     "output_type": "display_data"
    }
   ],
   "source": [
    "plt.plot(epoch_list, cost_list)\n",
    "plt.xlabel('epoch')\n",
    "plt.ylabel('cost')\n",
    "plt.title('Mini-batch Gradient Descent')"
   ]
  },
  {
   "cell_type": "markdown",
   "id": "249baabd",
   "metadata": {},
   "source": [
    "# PRACTICE"
   ]
  },
  {
   "cell_type": "code",
   "execution_count": 45,
   "id": "5d183b8e",
   "metadata": {},
   "outputs": [],
   "source": [
    "x2 = np.random.randn(1000,2)\n",
    "W = np.array([3,7])"
   ]
  },
  {
   "cell_type": "code",
   "execution_count": 46,
   "id": "0c73ab36",
   "metadata": {},
   "outputs": [
    {
     "data": {
      "text/plain": [
       "(2,)"
      ]
     },
     "execution_count": 46,
     "metadata": {},
     "output_type": "execute_result"
    }
   ],
   "source": [
    "W.shape"
   ]
  },
  {
   "cell_type": "code",
   "execution_count": 47,
   "id": "1a3c24c3",
   "metadata": {},
   "outputs": [],
   "source": [
    "y2 = np.dot(W,x2.T) + np.random.randn()"
   ]
  },
  {
   "cell_type": "code",
   "execution_count": 49,
   "id": "693e88ab",
   "metadata": {},
   "outputs": [
    {
     "data": {
      "text/plain": [
       "array([13.62456038,  9.42836285,  3.95815083,  3.99721236, -8.28367879,\n",
       "       -1.23397581,  4.04111221, -1.61959865,  3.89916228, -7.90573646])"
      ]
     },
     "execution_count": 49,
     "metadata": {},
     "output_type": "execute_result"
    }
   ],
   "source": [
    "y2[:10]"
   ]
  },
  {
   "cell_type": "code",
   "execution_count": 56,
   "id": "c7c2312e",
   "metadata": {},
   "outputs": [],
   "source": [
    "def grad_desc(x, y, epochs, learning_rate=0.01):\n",
    "    \n",
    "    num_features = x2.shape[1]\n",
    "    w = np.ones(shape=(num_features))\n",
    "    b = 0\n",
    "    total_samples = x2.shape[0]\n",
    "    \n",
    "    epoch_list = []\n",
    "    cost_list = []\n",
    "    \n",
    "    for i in range(epochs):\n",
    "        y_pred = np.dot(w, x2.T) + b\n",
    "        \n",
    "        dw = (-2/total_samples)*(x2.T.dot(y - y_pred))\n",
    "        db = (-2/total_samples)*sum(y - y_pred)\n",
    "        \n",
    "        w = w - learning_rate*dw\n",
    "        b = b - learning_rate*db\n",
    "        \n",
    "        cost = np.mean((y-y_pred)**2)\n",
    "        \n",
    "        if i%10 == 0:\n",
    "            epoch_list.append(i)\n",
    "            cost_list.append(cost)\n",
    "            \n",
    "    return w, b, cost, epoch_list, cost_list"
   ]
  },
  {
   "cell_type": "code",
   "execution_count": 58,
   "id": "a7162e89",
   "metadata": {},
   "outputs": [
    {
     "data": {
      "text/plain": [
       "(array([2.99999999, 6.99999999]), 1.0333234851164652, 2.7111052257412944e-16)"
      ]
     },
     "execution_count": 58,
     "metadata": {},
     "output_type": "execute_result"
    }
   ],
   "source": [
    "w, b, cost, epoch_list, cost_list = grad_desc(x2, y2, epochs=1000)\n",
    "w, b, cost"
   ]
  },
  {
   "cell_type": "code",
   "execution_count": 59,
   "id": "c2e69549",
   "metadata": {},
   "outputs": [
    {
     "data": {
      "text/plain": [
       "Text(0, 0.5, 'cost')"
      ]
     },
     "execution_count": 59,
     "metadata": {},
     "output_type": "execute_result"
    },
    {
     "data": {
      "image/png": "[encoded data removed]",
      "text/plain": [
       "<Figure size 640x480 with 1 Axes>"
      ]
     },
     "metadata": {},
     "output_type": "display_data"
    }
   ],
   "source": [
    "plt.plot(epoch_list, cost_list)\n",
    "plt.title('Gradient Descent')\n",
    "plt.xlabel('epochs')\n",
    "plt.ylabel('cost')"
   ]
  },
  {
   "cell_type": "code",
   "execution_count": 62,
   "id": "506eb2b4",
   "metadata": {},
   "outputs": [],
   "source": [
    "def stoch_grad_desc(x, y, epochs, learning_rate=0.01):\n",
    "    \n",
    "    num_features = x2.shape[1]\n",
    "    w = np.ones(shape=(num_features))\n",
    "    b = 0\n",
    "    total_samples = x2.shape[0]\n",
    "    \n",
    "    epoch_list = []\n",
    "    cost_list = []\n",
    "    \n",
    "    for i in range(epochs):\n",
    "        sample_index = np.random.randint(0,total_samples)\n",
    "        sample_x = x2[sample_index]\n",
    "        sample_y = y2[sample_index]\n",
    "        \n",
    "        y_pred = np.dot(w, sample_x.T) + b\n",
    "        \n",
    "        dw = (-2/total_samples)*(sample_x.T.dot(sample_y-y_pred))\n",
    "        db = (-2/total_samples)*(sample_y-y_pred)\n",
    "        \n",
    "        w = w - learning_rate*dw\n",
    "        b = b - learning_rate*db\n",
    "        \n",
    "        cost = (sample_y - y_pred)**2\n",
    "        \n",
    "        if i%10==0:\n",
    "            epoch_list.append(i)\n",
    "            cost_list.append(cost)\n",
    "            \n",
    "    return w, b, cost, epoch_list, cost_list"
   ]
  },
  {
   "cell_type": "code",
   "execution_count": 75,
   "id": "cac56148",
   "metadata": {},
   "outputs": [
    {
     "data": {
      "text/plain": [
       "(array([1.32977285, 2.08612353]), 0.1876600980926799, 25.925661707695443)"
      ]
     },
     "execution_count": 75,
     "metadata": {},
     "output_type": "execute_result"
    }
   ],
   "source": [
    "w, b, cost, epoch_list, cost_list = stoch_grad_desc(x2, y2, epochs=10000)\n",
    "w, b, cost"
   ]
  },
  {
   "cell_type": "code",
   "execution_count": 76,
   "id": "a290a84f",
   "metadata": {},
   "outputs": [
    {
     "data": {
      "text/plain": [
       "Text(0, 0.5, 'cost')"
      ]
     },
     "execution_count": 76,
     "metadata": {},
     "output_type": "execute_result"
    },
    {
     "data": {
      "image/png": "[encoded data removed]",
      "text/plain": [
       "<Figure size 640x480 with 1 Axes>"
      ]
     },
     "metadata": {},
     "output_type": "display_data"
    }
   ],
   "source": [
    "plt.plot(epoch_list, cost_list)\n",
    "plt.title('Stochastic Gradient Descent')\n",
    "plt.xlabel('epochs')\n",
    "plt.ylabel('cost')"
   ]
  },
  {
   "cell_type": "code",
   "execution_count": 67,
   "id": "3e84cf5d",
   "metadata": {},
   "outputs": [],
   "source": [
    "def mini_batch_grad_desc(x, y, epochs, learning_rate=0.01):\n",
    "    \n",
    "    num_features = x2.shape[1]\n",
    "    w = np.ones(shape=(num_features))\n",
    "    b = 0\n",
    "    total_samples = x2.shape[0]\n",
    "    \n",
    "    epoch_list=[]\n",
    "    cost_list=[]\n",
    "    \n",
    "    for i in range(epochs):\n",
    "        sample_index = np.random.randint(0, total_samples, 50)\n",
    "        sample_x = x2[sample_index]\n",
    "        sample_y = y2[sample_index]\n",
    "        \n",
    "        y_pred = np.dot(w, sample_x.T) + b\n",
    "        \n",
    "        dw = (-2/total_samples)*(sample_x.T.dot(sample_y - y_pred))\n",
    "        db = (-2/total_samples)*sum(sample_y - y_pred)\n",
    "        \n",
    "        w = w - learning_rate*dw\n",
    "        b = b - learning_rate*db\n",
    "        \n",
    "        cost = np.mean((sample_y - y_pred)**2)\n",
    "        \n",
    "        if i%10==0:\n",
    "            epoch_list.append(i)\n",
    "            cost_list.append(cost)\n",
    "            \n",
    "    return w, b, cost, epoch_list, cost_list"
   ]
  },
  {
   "cell_type": "code",
   "execution_count": 71,
   "id": "ebd29f47",
   "metadata": {},
   "outputs": [
    {
     "data": {
      "text/plain": [
       "(array([2.9829498, 6.9559714]), 1.0274150980508938, 0.0020616589517818197)"
      ]
     },
     "execution_count": 71,
     "metadata": {},
     "output_type": "execute_result"
    }
   ],
   "source": [
    "w, b, cost, epoch_list, cost_list = mini_batch_grad_desc(x2, y2, epochs=5000)\n",
    "w, b, cost"
   ]
  },
  {
   "cell_type": "code",
   "execution_count": 72,
   "id": "e5e88cf9",
   "metadata": {},
   "outputs": [
    {
     "data": {
      "text/plain": [
       "Text(0, 0.5, 'cost')"
      ]
     },
     "execution_count": 72,
     "metadata": {},
     "output_type": "execute_result"
    },
    {
     "data": {
      "image/png": "[encoded data removed]",
      "text/plain": [
       "<Figure size 640x480 with 1 Axes>"
      ]
     },
     "metadata": {},
     "output_type": "display_data"
    }
   ],
   "source": [
    "plt.plot(epoch_list, cost_list)\n",
    "plt.title('Mini Batch Gradient Descent')\n",
    "plt.xlabel('epochs')\n",
    "plt.ylabel('cost')"
   ]
  },
  {
   "cell_type": "code",
   "execution_count": null,
   "id": "f39a78ac",
   "metadata": {},
   "outputs": [],
   "source": []
  }
 ],
 "metadata": {
  "kernelspec": {
   "display_name": "Python 3 (ipykernel)",
   "language": "python",
   "name": "python3"
  },
  "language_info": {
   "codemirror_mode": {
    "name": "ipython",
    "version": 3
   },
   "file_extension": ".py",
   "mimetype": "text/x-python",
   "name": "python",
   "nbconvert_exporter": "python",
   "pygments_lexer": "ipython3",
   "version": "3.10.9"
  },
  "varInspector": {
   "cols": {
    "lenName": 16,
    "lenType": 16,
    "lenVar": 40
   },
   "kernels_config": {
    "python": {
     "delete_cmd_postfix": "",
     "delete_cmd_prefix": "del ",
     "library": "var_list.py",
     "varRefreshCmd": "print(var_dic_list())"
    },
    "r": {
     "delete_cmd_postfix": ") ",
     "delete_cmd_prefix": "rm(",
     "library": "var_list.r",
     "varRefreshCmd": "cat(var_dic_list()) "
    }
   },
   "types_to_exclude": [
    "module",
    "function",
    "builtin_function_or_method",
    "instance",
    "_Feature"
   ],
   "window_display": false
  }
 },
 "nbformat": 4,
 "nbformat_minor": 5
}
